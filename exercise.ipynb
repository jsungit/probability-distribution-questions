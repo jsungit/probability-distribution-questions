{
 "cells": [
  {
   "cell_type": "code",
   "execution_count": 2,
   "metadata": {},
   "outputs": [],
   "source": [
    "import numpy as np\n",
    "import scipy.stats as scs\n",
    "import matplotlib.pyplot as plt\n",
    "%matplotlib inline \n",
    "\n",
    "rv = scs.binom(10, 0.3)\n",
    "xs = np.arange(12)\n",
    "ys1 = rv.pmf(xs)\n",
    "ys2 = rv.cdf(xs)"
   ]
  },
  {
   "cell_type": "code",
   "execution_count": 6,
   "metadata": {},
   "outputs": [
    {
     "data": {
      "text/plain": [
       "<BarContainer object of 12 artists>"
      ]
     },
     "execution_count": 6,
     "metadata": {},
     "output_type": "execute_result"
    },
    {
     "data": {
      "image/png": "[encoded data removed]",
      "text/plain": [
       "<Figure size 432x288 with 2 Axes>"
      ]
     },
     "metadata": {
      "needs_background": "light"
     },
     "output_type": "display_data"
    }
   ],
   "source": [
    "fig, axes = plt.subplots(2,1)\n",
    "axes[0].bar(xs, ys1, label = 'pmf', color = 'blue', alpha = 0.3)\n",
    "axes[1].bar(xs, ys2, label = 'pmf', color = 'orange', alpha = 0.3)"
   ]
  },
  {
   "cell_type": "code",
   "execution_count": 5,
   "metadata": {},
   "outputs": [
    {
     "data": {
      "text/plain": [
       "(array(7.), array(7.), array(0.37796447), array(0.14285714))"
      ]
     },
     "execution_count": 5,
     "metadata": {},
     "output_type": "execute_result"
    }
   ],
   "source": [
    "rv = scs.poisson(7)\n",
    "rv.stats('mvsk')"
   ]
  },
  {
   "cell_type": "code",
   "execution_count": 7,
   "metadata": {},
   "outputs": [],
   "source": [
    "xs = np.arange(20)\n",
    "ys1 = rv.pmf(xs)\n",
    "ys2 = rv.cdf(xs)"
   ]
  },
  {
   "cell_type": "code",
   "execution_count": 13,
   "metadata": {},
   "outputs": [
    {
     "data": {
      "image/png": "[encoded data removed]",
      "text/plain": [
       "<Figure size 432x288 with 2 Axes>"
      ]
     },
     "metadata": {
      "needs_background": "light"
     },
     "output_type": "display_data"
    }
   ],
   "source": [
    "fig, axes = plt.subplots(2,1)\n",
    "axes[0].bar(xs, ys1, label = 'pmf', color = 'green', alpha = 0.3)\n",
    "axes[1].bar(xs, ys2, label = 'cdf', color = 'brown', alpha = 0.5)\n",
    "fig.legend();"
   ]
  },
  {
   "cell_type": "markdown",
   "metadata": {},
   "source": [
    "# maximum likelihood estimation\n"
   ]
  },
  {
   "cell_type": "code",
   "execution_count": 14,
   "metadata": {},
   "outputs": [],
   "source": [
    "rv = scs.norm(25, 3)"
   ]
  },
  {
   "cell_type": "code",
   "execution_count": 15,
   "metadata": {},
   "outputs": [
    {
     "data": {
      "text/plain": [
       "(array(25.), array(9.), array(0.), array(0.))"
      ]
     },
     "execution_count": 15,
     "metadata": {},
     "output_type": "execute_result"
    }
   ],
   "source": [
    "rv.stats('mvsk')"
   ]
  },
  {
   "cell_type": "code",
   "execution_count": 19,
   "metadata": {},
   "outputs": [
    {
     "data": {
      "text/plain": [
       "array([23.16134596, 23.48912655, 27.93192433, 29.81418084, 23.19702147,\n",
       "       16.18343614, 25.37395626, 27.37237998, 17.25000721, 26.20783675,\n",
       "       24.09729259, 20.85963658, 24.86621555, 23.90953356, 18.33727623,\n",
       "       32.42086102, 21.41841201, 24.5510635 , 25.55590695, 22.69084076,\n",
       "       26.89243324, 22.82288495, 27.90155124, 22.89471324, 29.06286439,\n",
       "       22.9755698 , 26.03282104, 25.46142768, 23.87402809, 20.53647784,\n",
       "       25.28476274, 21.50965334, 26.98702207, 18.11056193, 23.88104927,\n",
       "       22.87528427, 31.01445978, 20.6585477 , 27.54455004, 25.14430099,\n",
       "       23.74247226, 25.91562503, 23.10015747, 25.96343878, 26.13687065,\n",
       "       24.24846654, 20.18841357, 19.32975064, 28.00322329, 19.86546894,\n",
       "       19.64644255, 26.83401463, 23.1115756 , 34.24135115, 25.22484045,\n",
       "       15.36918606, 26.12788791, 22.34750993, 21.11420698, 26.41411059,\n",
       "       32.58938737, 22.77768066, 26.74594659, 26.45283371, 29.66423911,\n",
       "       22.50756504, 21.14356152, 25.76857075, 28.87373813, 24.8704451 ,\n",
       "       21.78139448, 23.47250349, 20.44932657, 28.32975645, 25.67116716,\n",
       "       25.79771538, 26.75185491, 21.5515619 , 23.81066577, 26.43224803,\n",
       "       23.86432964, 22.03681656, 24.83650193, 29.50060288, 25.04111663,\n",
       "       23.84275966, 26.72701881, 22.74892197, 30.94889819, 30.42075147,\n",
       "       24.5704924 , 25.20826554, 24.14423727, 27.29246509, 23.89869438,\n",
       "       27.48016026, 22.80158209, 28.2579107 , 22.18051881, 28.31044381])"
      ]
     },
     "execution_count": 19,
     "metadata": {},
     "output_type": "execute_result"
    }
   ],
   "source": [
    "data = rv.rvs(100)\n",
    "data"
   ]
  },
  {
   "cell_type": "code",
   "execution_count": null,
   "metadata": {},
   "outputs": [],
   "source": [
    "#step 1 what is the distribution? Normal\n",
    "#step 2 --gather the parameters for the distribution, mu, sigma--squard "
   ]
  },
  {
   "cell_type": "code",
   "execution_count": 20,
   "metadata": {},
   "outputs": [
    {
     "data": {
      "text/plain": [
       "(24.66632881087739, 3.44729680972509)"
      ]
     },
     "execution_count": 20,
     "metadata": {},
     "output_type": "execute_result"
    }
   ],
   "source": [
    "scs.norm.fit(data)"
   ]
  },
  {
   "cell_type": "code",
   "execution_count": 22,
   "metadata": {},
   "outputs": [],
   "source": [
    "my_norm = scs.norm(25.01, 3.11)"
   ]
  },
  {
   "cell_type": "code",
   "execution_count": 23,
   "metadata": {},
   "outputs": [
    {
     "data": {
      "text/plain": [
       "(array(25.01), array(9.6721), array(0.), array(0.))"
      ]
     },
     "execution_count": 23,
     "metadata": {},
     "output_type": "execute_result"
    }
   ],
   "source": [
    "my_norm.stats('mvsk')"
   ]
  },
  {
   "cell_type": "code",
   "execution_count": null,
   "metadata": {},
   "outputs": [],
   "source": []
  },
  {
   "cell_type": "code",
   "execution_count": null,
   "metadata": {},
   "outputs": [],
   "source": []
  },
  {
   "cell_type": "code",
   "execution_count": null,
   "metadata": {},
   "outputs": [],
   "source": []
  },
  {
   "cell_type": "code",
   "execution_count": null,
   "metadata": {},
   "outputs": [],
   "source": []
  },
  {
   "cell_type": "code",
   "execution_count": null,
   "metadata": {},
   "outputs": [],
   "source": []
  },
  {
   "cell_type": "code",
   "execution_count": null,
   "metadata": {},
   "outputs": [],
   "source": []
  }
 ],
 "metadata": {
  "kernelspec": {
   "display_name": "Python 3",
   "language": "python",
   "name": "python3"
  },
  "language_info": {
   "codemirror_mode": {
    "name": "ipython",
    "version": 3
   },
   "file_extension": ".py",
   "mimetype": "text/x-python",
   "name": "python",
   "nbconvert_exporter": "python",
   "pygments_lexer": "ipython3",
   "version": "3.7.1"
  }
 },
 "nbformat": 4,
 "nbformat_minor": 2
}
